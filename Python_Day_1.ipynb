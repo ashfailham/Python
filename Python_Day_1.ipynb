{
  "nbformat": 4,
  "nbformat_minor": 0,
  "metadata": {
    "colab": {
      "name": "Python Day 1.ipynb",
      "provenance": [],
      "authorship_tag": "ABX9TyMxW9w0cIo5Pu+XEytRNgdf",
      "include_colab_link": true
    },
    "kernelspec": {
      "name": "python3",
      "display_name": "Python 3"
    },
    "language_info": {
      "name": "python"
    }
  },
  "cells": [
    {
      "cell_type": "markdown",
      "metadata": {
        "id": "view-in-github",
        "colab_type": "text"
      },
      "source": [
        "<a href=\"https://colab.research.google.com/github/ashfailham/Python/blob/main/Python_Day_1.ipynb\" target=\"_parent\"><img src=\"https://colab.research.google.com/assets/colab-badge.svg\" alt=\"Open In Colab\"/></a>"
      ]
    },
    {
      "cell_type": "markdown",
      "metadata": {
        "id": "TIp04WmzwS_q"
      },
      "source": [
        "Python for Data Science from zero to hero.\n",
        "Assingment Day 1."
      ]
    },
    {
      "cell_type": "code",
      "metadata": {
        "colab": {
          "base_uri": "https://localhost:8080/"
        },
        "id": "zhXzlhaEwe8H",
        "outputId": "278a3bed-5dd0-4831-d97d-8362bfccd0da"
      },
      "source": [
        "a=10\n",
        "b=20\n",
        "\n",
        "#print(a*b)\n",
        "#print(a/b)\n",
        "#print(a%b)\n",
        "#print((a*b)+(a/b)) ##BODMAS\n",
        "c = (a*b)\n",
        "print(c)\n",
        "d = (a/b)\n",
        "print(d)\n",
        "print(a%b)\n",
        "print((c)+(d))"
      ],
      "execution_count": 1,
      "outputs": [
        {
          "output_type": "stream",
          "name": "stdout",
          "text": [
            "200\n",
            "0.5\n",
            "10\n",
            "200.5\n"
          ]
        }
      ]
    },
    {
      "cell_type": "code",
      "metadata": {
        "colab": {
          "base_uri": "https://localhost:8080/"
        },
        "id": "uqOkhQehxNUQ",
        "outputId": "0431e930-5033-4973-beeb-5c7477b0937c"
      },
      "source": [
        "#Write a program which accept principle, rate and time from user and print the simple interest. The formula to calculate simple interest is: simple interest = principle x rate x time / 100 Solution\n",
        "\n",
        "p = float(input(\"Enter principle amount:\\n\"))\n",
        "r = float(input(\"Enter rate of intrest:\\n\"))\n",
        "t = float(input(\"Enter time period:\\n\"))\n",
        "SI = p*r*t/100\n",
        "print(\"n\\The Simple Intrest is {}\".format(SI))\n"
      ],
      "execution_count": 2,
      "outputs": [
        {
          "output_type": "stream",
          "name": "stdout",
          "text": [
            "Enter principle amount:\n",
            "1000\n",
            "Enter rate of intrest:\n",
            "6\n",
            "Enter time period:\n",
            "1\n",
            "n\\The Simple Intrest is 60.0\n"
          ]
        }
      ]
    }
  ]
}